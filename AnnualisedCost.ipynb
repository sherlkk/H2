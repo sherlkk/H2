{
 "cells": [
  {
   "cell_type": "code",
   "execution_count": 1,
   "id": "5a8c25aa-13dd-466f-b3f9-6322a582298b",
   "metadata": {},
   "outputs": [],
   "source": [
    "import os\n",
    "import re\n",
    "import json\n",
    "import numpy as np\n",
    "import pandas as pd\n",
    "import seaborn as sns"
   ]
  },
  {
   "cell_type": "code",
   "execution_count": 2,
   "id": "820f1623-12d0-4f7e-a626-eb78d4cb6795",
   "metadata": {},
   "outputs": [],
   "source": [
    "gas = 11613\n",
    "n = 0.87\n",
    "Phh = 0.975\n",
    "Pes = 0.1\n",
    "heat = gas * n * Phh * (1-Pes)"
   ]
  },
  {
   "cell_type": "code",
   "execution_count": 3,
   "id": "1bc507b7-9014-4ffc-9c19-eb7ecc368bba",
   "metadata": {},
   "outputs": [
    {
     "name": "stdout",
     "output_type": "stream",
     "text": [
      "8865.654525\n"
     ]
    }
   ],
   "source": [
    "# total heat demand (11613kwh per year)\n",
    "print(heat)"
   ]
  },
  {
   "cell_type": "code",
   "execution_count": 14,
   "id": "cd93fe74-db34-4892-8cdc-e078493bb107",
   "metadata": {},
   "outputs": [
    {
     "name": "stdout",
     "output_type": "stream",
     "text": [
      "11.517410896434143\n"
     ]
    }
   ],
   "source": [
    "#AF for H2 boiler\n",
    "i = 0.035\n",
    "t = 15\n",
    "AFh2 = (1-(1+i)**(-t))/i\n",
    "print(AFh2)"
   ]
  },
  {
   "cell_type": "code",
   "execution_count": 16,
   "id": "5cfc26d1-baee-460f-bb8c-1ca6c2525ec8",
   "metadata": {},
   "outputs": [
    {
     "name": "stdout",
     "output_type": "stream",
     "text": [
      "14.212403301952268\n"
     ]
    }
   ],
   "source": [
    "#AF for heat pump\n",
    "i = 0.035\n",
    "t = 20\n",
    "AFhp = (1-(1+i)**(-t))/i\n",
    "print(AFhp)"
   ]
  },
  {
   "cell_type": "code",
   "execution_count": 18,
   "id": "85e889ff-4773-45c7-b04e-4a6963b21699",
   "metadata": {},
   "outputs": [
    {
     "name": "stdout",
     "output_type": "stream",
     "text": [
      "14.212403301952268\n"
     ]
    }
   ],
   "source": [
    "#AF for hybrid heat pump\n",
    "i = 0.035\n",
    "t = 20\n",
    "AFhh2 = (1-(1+i)**(-t))/i\n",
    "print(AFhh2)"
   ]
  },
  {
   "cell_type": "markdown",
   "id": "2284b488-5939-4866-ba8e-e80efd89034d",
   "metadata": {},
   "source": [
    "## GAS BOILER"
   ]
  },
  {
   "cell_type": "code",
   "execution_count": 57,
   "id": "7f3013cd-6729-4a1e-9a98-d3d97d27af7f",
   "metadata": {},
   "outputs": [
    {
     "name": "stdout",
     "output_type": "stream",
     "text": [
      "270.8942164220233\n"
     ]
    }
   ],
   "source": [
    "#gas boiler\n",
    "#Annualiased capital cost for gas boiler\n",
    "system = 2600\n",
    "radiator = 0\n",
    "replacement = 520\n",
    "cooking = 0\n",
    "cylinder = 0\n",
    "h2conversion = 0\n",
    "\n",
    "acapgas = (system + radiator + replacement + cooking + cylinder + h2conversion)/AFh2 \n",
    "print(acapgas)"
   ]
  },
  {
   "cell_type": "code",
   "execution_count": 58,
   "id": "aa409333-9068-48a9-9b92-9747d13b3200",
   "metadata": {},
   "outputs": [
    {
     "name": "stdout",
     "output_type": "stream",
     "text": [
      "483.4782224999999\n"
     ]
    }
   ],
   "source": [
    "#varOPEX for gas boiler \n",
    "\n",
    "E = 0.87\n",
    "cost = 4.27/100\n",
    "fuelgas = (heat/E/(1-Pes)) * cost\n",
    "\n",
    "print(fuelgas)"
   ]
  },
  {
   "cell_type": "code",
   "execution_count": 59,
   "id": "7a84a663-8ffe-408b-ad40-b6d5b312d6c4",
   "metadata": {},
   "outputs": [
    {
     "name": "stdout",
     "output_type": "stream",
     "text": [
      "854.3724389220232\n"
     ]
    }
   ],
   "source": [
    "#total for gas boiler \n",
    "maintenance = 100\n",
    "tgas = fuelgas + acapgas + maintenance\n",
    "\n",
    "print(tgas)"
   ]
  },
  {
   "cell_type": "code",
   "execution_count": 61,
   "id": "b4e5083d-d2da-4ffc-97fb-bb8931679d67",
   "metadata": {},
   "outputs": [
    {
     "name": "stdout",
     "output_type": "stream",
     "text": [
      "2072.049525\n"
     ]
    }
   ],
   "source": [
    "co2factor = 0.183\n",
    "co2gas = (heat/E/(1-Pes)) * co2factor\n",
    "\n",
    "print(co2gas)"
   ]
  },
  {
   "cell_type": "markdown",
   "id": "eb06c881-c49e-4306-91f1-4d990dfc3f76",
   "metadata": {},
   "source": [
    "## Annualiased capital cost"
   ]
  },
  {
   "cell_type": "code",
   "execution_count": 27,
   "id": "f68d09e7-e622-449a-8ddd-11e9e873b271",
   "metadata": {},
   "outputs": [
    {
     "name": "stdout",
     "output_type": "stream",
     "text": [
      "320.3845059606622\n"
     ]
    }
   ],
   "source": [
    "#Annualiased capital cost for H2 boiler\n",
    "system = 2600\n",
    "radiator = 0\n",
    "replacement = 520\n",
    "cooking = 320\n",
    "cylinder = 0\n",
    "h2conversion = 250\n",
    "\n",
    "acaph2 = (system + radiator + replacement + cooking + cylinder + h2conversion)/AFh2 \n",
    "print(acaph2)"
   ]
  },
  {
   "cell_type": "code",
   "execution_count": 28,
   "id": "f1ac853e-8c11-4550-9bd4-bea4dfad9329",
   "metadata": {},
   "outputs": [
    {
     "name": "stdout",
     "output_type": "stream",
     "text": [
      "624.1027510654433\n"
     ]
    }
   ],
   "source": [
    "#Annualiased capital cost for heat pump\n",
    "system = 5080\n",
    "radiator = 1870\n",
    "replacement = 520\n",
    "cooking = 320\n",
    "cylinder = 1080\n",
    "h2conversion = 0\n",
    "\n",
    "acaphp = (system + radiator + replacement + cooking + cylinder + h2conversion)/AFhp \n",
    "print(acaphp)"
   ]
  },
  {
   "cell_type": "code",
   "execution_count": 29,
   "id": "93a6dd9e-2fb1-4c1c-bc71-d8c159824935",
   "metadata": {},
   "outputs": [
    {
     "name": "stdout",
     "output_type": "stream",
     "text": [
      "508.00697437344985\n"
     ]
    }
   ],
   "source": [
    "#Annualiased capital cost for hybrid heat pump\n",
    "system = 6130\n",
    "radiator = 0\n",
    "replacement = 520\n",
    "cooking = 320\n",
    "cylinder = 0\n",
    "h2conversion = 250\n",
    "\n",
    "acaphh2 = (system + radiator + replacement + cooking + cylinder + h2conversion)/AFhh2\n",
    "print(acaphh2)"
   ]
  },
  {
   "cell_type": "markdown",
   "id": "318a0b91-cf19-47c9-a795-ca4c60a534d3",
   "metadata": {},
   "source": [
    "## H2 boiler ATR+CCS "
   ]
  },
  {
   "cell_type": "code",
   "execution_count": 64,
   "id": "3430e61e-8931-44a3-bb8d-def520367494",
   "metadata": {},
   "outputs": [
    {
     "name": "stdout",
     "output_type": "stream",
     "text": [
      "720.3344301562499\n",
      "941.97579328125\n"
     ]
    }
   ],
   "source": [
    "#varOPEX for h2 boiler ATR\n",
    "\n",
    "E = 0.8\n",
    "costlow = 6.5/100\n",
    "costhigh = 8.5/100\n",
    "\n",
    "fuelh2atrlow = (heat/E) * costlow\n",
    "fuelh2atrhigh = (heat/E) * costhigh\n",
    "\n",
    "\n",
    "print(fuelh2atrlow)\n",
    "print(fuelh2atrhigh)"
   ]
  },
  {
   "cell_type": "code",
   "execution_count": 65,
   "id": "6ed92d0e-5d28-423c-abd9-aabf8e095349",
   "metadata": {},
   "outputs": [
    {
     "name": "stdout",
     "output_type": "stream",
     "text": [
      "1140.7189361169121\n",
      "1362.3602992419123\n"
     ]
    }
   ],
   "source": [
    "#total for h2 boiler ATR\n",
    "\n",
    "maintenance = 100\n",
    "th2atrlow = fuelh2atrlow + acaph2 + maintenance\n",
    "th2atrhigh = fuelh2atrhigh + acaph2 + maintenance\n",
    "\n",
    "print(th2atrlow)\n",
    "print(th2atrhigh)"
   ]
  },
  {
   "cell_type": "code",
   "execution_count": 66,
   "id": "65c80d1e-ee7a-4fff-b500-bfca390a3950",
   "metadata": {},
   "outputs": [
    {
     "name": "stdout",
     "output_type": "stream",
     "text": [
      "421.11858993749996\n",
      "930.8937251250001\n"
     ]
    }
   ],
   "source": [
    "#CO2 for h2 boiler ATR\n",
    "\n",
    "co2flowatr = 0.038\n",
    "co2fhighatr = 0.084\n",
    "\n",
    "co2lowatr = (heat/E) * co2flowatr\n",
    "co2highatr = (heat/E) * co2fhighatr\n",
    "\n",
    "print(co2lowatr)\n",
    "print(co2highatr)"
   ]
  },
  {
   "cell_type": "markdown",
   "id": "f02c5510-858b-4a41-8368-ecb328f104b3",
   "metadata": {},
   "source": [
    "## H2 boiler electrolysis"
   ]
  },
  {
   "cell_type": "code",
   "execution_count": 72,
   "id": "66f5bfae-d99b-4e57-b266-e4f39c4fcb3b",
   "metadata": {},
   "outputs": [
    {
     "name": "stdout",
     "output_type": "stream",
     "text": [
      "831.1551117187499\n",
      "1662.3102234374999\n"
     ]
    }
   ],
   "source": [
    "#varOPEX for h2 boiler electrolysis\n",
    "\n",
    "E = 0.8\n",
    "costlow = 7.5/100\n",
    "costhigh = 15/100\n",
    "\n",
    "fuelh2elelow = (heat/E) * costlow\n",
    "fuelh2elehigh = (heat/E) * costhigh\n",
    "\n",
    "\n",
    "print(fuelh2elelow)\n",
    "print(fuelh2elehigh)"
   ]
  },
  {
   "cell_type": "code",
   "execution_count": 73,
   "id": "1341df74-ce60-41c4-9539-07d8fbdc7f88",
   "metadata": {},
   "outputs": [
    {
     "name": "stdout",
     "output_type": "stream",
     "text": [
      "1251.539617679412\n",
      "2082.694729398162\n"
     ]
    }
   ],
   "source": [
    "#varOPEX for h2 boiler electrolysis\n",
    "\n",
    "maintenance = 100\n",
    "th2elelow = fuelh2elelow + acaph2 + maintenance\n",
    "th2elehigh = fuelh2elehigh + acaph2 + maintenance\n",
    "\n",
    "print(th2elelow)\n",
    "print(th2elehigh)"
   ]
  },
  {
   "cell_type": "code",
   "execution_count": 74,
   "id": "0a88f494-cce3-4645-8e3f-03474c997e51",
   "metadata": {},
   "outputs": [
    {
     "name": "stdout",
     "output_type": "stream",
     "text": [
      "0.0\n",
      "3.98954453625\n"
     ]
    }
   ],
   "source": [
    "#CO2 for h2 boiler ele\n",
    "\n",
    "co2flowele = 0\n",
    "co2fhighele = 0.00036\n",
    "\n",
    "co2lowele = (heat/E) * co2flowele\n",
    "co2highele = (heat/E) * co2fhighele\n",
    "\n",
    "print(co2lowele)\n",
    "print(co2highele)"
   ]
  },
  {
   "cell_type": "markdown",
   "id": "944d4e36-4a95-4765-a1b3-d6904ac8423e",
   "metadata": {},
   "source": [
    "## Heat pump"
   ]
  },
  {
   "cell_type": "code",
   "execution_count": 79,
   "id": "a6195ce6-2fa8-4a39-a4c0-45eae77a96ac",
   "metadata": {},
   "outputs": [
    {
     "name": "stdout",
     "output_type": "stream",
     "text": [
      "526.0491522749531\n",
      "597.6640341009845\n"
     ]
    }
   ],
   "source": [
    "#varOPEX for heat pump\n",
    "\n",
    "Esh = 3.2\n",
    "Ehw = 2.6\n",
    "costlow = 18.07/100\n",
    "costhigh = 20.53/100\n",
    "\n",
    "heathp = heat*(1-0.22) / Esh + heat*0.22 / Ehw\n",
    "\n",
    "fuelhplow = heathp * costlow\n",
    "fuelhphigh = heathp * costhigh\n",
    "\n",
    "\n",
    "print(fuelhplow)\n",
    "print(fuelhphigh)"
   ]
  },
  {
   "cell_type": "code",
   "execution_count": 80,
   "id": "ab97e8a8-b71e-4fed-91d0-195c964e1f8c",
   "metadata": {},
   "outputs": [
    {
     "name": "stdout",
     "output_type": "stream",
     "text": [
      "1300.1519033403965\n",
      "1371.7667851664278\n"
     ]
    }
   ],
   "source": [
    "#total for heat pump\n",
    "\n",
    "maintenance = 150\n",
    "thplow = fuelhpatrlow + acaphp + maintenance\n",
    "thphigh = fuelhpatrhigh + acaphp + maintenance\n",
    "\n",
    "print(thplow)\n",
    "print(thphigh)"
   ]
  },
  {
   "cell_type": "code",
   "execution_count": 81,
   "id": "7ca177cc-5c96-40c7-9327-b3dbd3619b5e",
   "metadata": {},
   "outputs": [
    {
     "name": "stdout",
     "output_type": "stream",
     "text": [
      "0.0\n",
      "46.5787849275\n"
     ]
    }
   ],
   "source": [
    "#CO2 for heat pump\n",
    "\n",
    "co2flowhp = 0\n",
    "co2fhighhp = 0.016\n",
    "\n",
    "co2lowhp = heathp * co2flowhp\n",
    "co2highhp = heathp * co2fhighhp\n",
    "\n",
    "print(co2lowhp)\n",
    "print(co2highhp)"
   ]
  },
  {
   "cell_type": "markdown",
   "id": "7f111bff-6d2b-4f62-a209-65013fd9bff5",
   "metadata": {},
   "source": [
    "## Hybrid heat pump ATR"
   ]
  },
  {
   "cell_type": "code",
   "execution_count": 85,
   "id": "06ff41a9-d1e9-4434-badb-8aea6a3f5b72",
   "metadata": {},
   "outputs": [
    {
     "name": "stdout",
     "output_type": "stream",
     "text": [
      "548.5298663344499\n",
      "669.67016976405\n"
     ]
    }
   ],
   "source": [
    "#varOPEX for hybrid heat pump ATR\n",
    "\n",
    "Esh = 3.6\n",
    "Eh2 = 0.8\n",
    "costlowhp = 18.07/100\n",
    "costlowatr = 6.5/100\n",
    "\n",
    "costhighhp = 20.53/100\n",
    "costhighatr = 8.5/100\n",
    "\n",
    "heathp = heat*(1-0.22)*0.8 / Esh\n",
    "heath2 = (heat*0.22 + heat*(1-0.22)* (1-0.8)) / Eh2\n",
    "\n",
    "\n",
    "fuelhh2atrlow = heathp * costlowhp + heath2 * costlowatr\n",
    "fuelhh2atrhigh = heathp * costhighhp + heath2 * costhighatr\n",
    "\n",
    "\n",
    "print(fuelhh2atrlow)\n",
    "print(fuelhh2atrhigh)"
   ]
  },
  {
   "cell_type": "code",
   "execution_count": 86,
   "id": "ce023288-dbcf-4f97-a625-78ee7a6b93fd",
   "metadata": {},
   "outputs": [
    {
     "name": "stdout",
     "output_type": "stream",
     "text": [
      "1206.5368407078997\n",
      "1327.6771441375\n"
     ]
    }
   ],
   "source": [
    "#total for hybrid heat pump ATR\n",
    "\n",
    "maintenance = 150\n",
    "thh2atrlow = fuelhh2atrlow + acaphh2 + maintenance\n",
    "thh2atrhigh = fuelhh2atrhigh + acaphh2 + maintenance\n",
    "\n",
    "print(thh2atrlow)\n",
    "print(thh2atrhigh)"
   ]
  },
  {
   "cell_type": "code",
   "execution_count": 87,
   "id": "bc9aea9a-69fe-4e06-a819-8f63737d4953",
   "metadata": {},
   "outputs": [
    {
     "name": "stdout",
     "output_type": "stream",
     "text": [
      "158.34058981649997\n",
      "374.60345586299997\n"
     ]
    }
   ],
   "source": [
    "#CO2 for hybrid heat pump ATR\n",
    "\n",
    "co2flowhp = 0\n",
    "co2fhighhp = 0.016\n",
    "\n",
    "co2flowatr = 0.038\n",
    "co2fhighatr = 0.084\n",
    "\n",
    "co2lowhh2atr = heathp * co2flowhp + heath2 * co2flowatr\n",
    "co2highhh2atr = heathp * co2fhighhp + heath2 * co2fhighatr\n",
    "\n",
    "print(co2lowhh2atr)\n",
    "print(co2highhh2atr)"
   ]
  },
  {
   "cell_type": "markdown",
   "id": "87a9c622-6279-40ee-9c22-052d42c23cf2",
   "metadata": {},
   "source": [
    "## Hybrid heat pump electrolysis"
   ]
  },
  {
   "cell_type": "code",
   "execution_count": 88,
   "id": "1a373f92-6fd0-4ef9-b115-e27a554663af",
   "metadata": {},
   "outputs": [
    {
     "name": "stdout",
     "output_type": "stream",
     "text": [
      "590.1984426019499\n",
      "940.5159155027999\n"
     ]
    }
   ],
   "source": [
    "#varOPEX for hybrid heat pump electrolysis\n",
    "\n",
    "Esh = 3.6\n",
    "Eh2 = 0.8\n",
    "costlowhp = 18.07/100\n",
    "costlowele = 7.5/100\n",
    "\n",
    "costhighhp = 20.53/100\n",
    "costhighele = 15/100\n",
    "\n",
    "heathp = heat*(1-0.22)*0.8 / Esh\n",
    "heath2 = (heat*0.22 + heat*(1-0.22)* (1-0.8)) / Eh2\n",
    "\n",
    "\n",
    "fuelhh2elelow = heathp * costlowhp + heath2 * costlowele\n",
    "fuelhh2elehigh = heathp * costhighhp + heath2 * costhighele\n",
    "\n",
    "print(fuelhh2elelow)\n",
    "print(fuelhh2elehigh)"
   ]
  },
  {
   "cell_type": "code",
   "execution_count": 89,
   "id": "02b117b7-c720-4c77-a287-b45e2f00b412",
   "metadata": {},
   "outputs": [
    {
     "name": "stdout",
     "output_type": "stream",
     "text": [
      "1248.2054169753997\n",
      "1598.5228898762498\n"
     ]
    }
   ],
   "source": [
    "#varOPEX for hybrid heat pump electrolysis\n",
    "\n",
    "maintenance = 150\n",
    "thh2elelow = fuelhh2elelow + acaphh2 + maintenance\n",
    "thh2elehigh = fuelhh2elehigh + acaphh2 + maintenance\n",
    "\n",
    "print(thh2elelow)\n",
    "print(thh2elehigh)"
   ]
  },
  {
   "cell_type": "code",
   "execution_count": 90,
   "id": "818a88cd-f898-4fff-8ca0-b9f38addeaad",
   "metadata": {},
   "outputs": [
    {
     "name": "stdout",
     "output_type": "stream",
     "text": [
      "0.0\n",
      "26.08748396163\n"
     ]
    }
   ],
   "source": [
    "#CO2 for hybrid heat pump ATR\n",
    "\n",
    "co2flowhp = 0\n",
    "co2fhighhp = 0.016\n",
    "\n",
    "co2flowele = 0\n",
    "co2fhighele = 0.00036\n",
    "\n",
    "\n",
    "co2lowhh2ele = heathp * co2flowhp + heath2 * co2flowele\n",
    "co2highhh2ele = heathp * co2fhighhp + heath2 * co2fhighele\n",
    "\n",
    "print(co2lowhh2ele)\n",
    "print(co2highhh2ele)"
   ]
  }
 ],
 "metadata": {
  "kernelspec": {
   "display_name": "Python 3 (ipykernel)",
   "language": "python",
   "name": "python3"
  },
  "language_info": {
   "codemirror_mode": {
    "name": "ipython",
    "version": 3
   },
   "file_extension": ".py",
   "mimetype": "text/x-python",
   "name": "python",
   "nbconvert_exporter": "python",
   "pygments_lexer": "ipython3",
   "version": "3.9.7"
  }
 },
 "nbformat": 4,
 "nbformat_minor": 5
}
